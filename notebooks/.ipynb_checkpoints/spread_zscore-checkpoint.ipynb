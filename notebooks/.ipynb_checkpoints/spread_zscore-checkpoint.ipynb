{
 "cells": [
  {
   "cell_type": "code",
   "execution_count": 3,
   "id": "362e9f8b-a4cb-40f5-a6fe-98a2194acf7e",
   "metadata": {},
   "outputs": [
    {
     "name": "stdout",
     "output_type": "stream",
     "text": [
      "✅ Downloaded data for PHM\n",
      "✅ Downloaded data for TOL\n"
     ]
    },
    {
     "data": {
      "text/html": [
       "<div>\n",
       "<style scoped>\n",
       "    .dataframe tbody tr th:only-of-type {\n",
       "        vertical-align: middle;\n",
       "    }\n",
       "\n",
       "    .dataframe tbody tr th {\n",
       "        vertical-align: top;\n",
       "    }\n",
       "\n",
       "    .dataframe thead th {\n",
       "        text-align: right;\n",
       "    }\n",
       "</style>\n",
       "<table border=\"1\" class=\"dataframe\">\n",
       "  <thead>\n",
       "    <tr style=\"text-align: right;\">\n",
       "      <th></th>\n",
       "      <th>PHM</th>\n",
       "      <th>TOL</th>\n",
       "    </tr>\n",
       "    <tr>\n",
       "      <th>date</th>\n",
       "      <th></th>\n",
       "      <th></th>\n",
       "    </tr>\n",
       "  </thead>\n",
       "  <tbody>\n",
       "    <tr>\n",
       "      <th>2023-03-08 05:00:00</th>\n",
       "      <td>54.75</td>\n",
       "      <td>59.53</td>\n",
       "    </tr>\n",
       "    <tr>\n",
       "      <th>2023-03-09 05:00:00</th>\n",
       "      <td>54.44</td>\n",
       "      <td>58.29</td>\n",
       "    </tr>\n",
       "    <tr>\n",
       "      <th>2023-03-10 05:00:00</th>\n",
       "      <td>53.47</td>\n",
       "      <td>57.37</td>\n",
       "    </tr>\n",
       "    <tr>\n",
       "      <th>2023-03-13 04:00:00</th>\n",
       "      <td>54.21</td>\n",
       "      <td>57.40</td>\n",
       "    </tr>\n",
       "    <tr>\n",
       "      <th>2023-03-14 04:00:00</th>\n",
       "      <td>55.02</td>\n",
       "      <td>58.48</td>\n",
       "    </tr>\n",
       "  </tbody>\n",
       "</table>\n",
       "</div>"
      ],
      "text/plain": [
       "                       PHM    TOL\n",
       "date                             \n",
       "2023-03-08 05:00:00  54.75  59.53\n",
       "2023-03-09 05:00:00  54.44  58.29\n",
       "2023-03-10 05:00:00  53.47  57.37\n",
       "2023-03-13 04:00:00  54.21  57.40\n",
       "2023-03-14 04:00:00  55.02  58.48"
      ]
     },
     "execution_count": 3,
     "metadata": {},
     "output_type": "execute_result"
    }
   ],
   "source": [
    "import pandas as pd\n",
    "from polygon import RESTClient\n",
    "import time\n",
    "import matplotlib.pyplot as plt\n",
    "\n",
    "API_KEY = \"qZjobWEw7wU6mutIdeE19pDHXcPzbp4R\"\n",
    "\n",
    "client = RESTClient(API_KEY)\n",
    "\n",
    "tickers = [\"PHM\", \"TOL\"]\n",
    "start_date = \"2023-03-01\"\n",
    "end_date = \"2024-03-01\"\n",
    "\n",
    "data_dict = {}\n",
    "\n",
    "for ticker in tickers:\n",
    "    try:\n",
    "        bars = client.get_aggs(ticker=ticker, multiplier=1, timespan=\"day\", from_=start_date, to=end_date)\n",
    "        df = pd.DataFrame(bars)\n",
    "        df[\"date\"] = pd.to_datetime(df[\"timestamp\"], unit=\"ms\")  \n",
    "        df.set_index(\"date\", inplace=True)\n",
    "        data_dict[ticker] = df[\"close\"]\n",
    "        print(f\"✅ Downloaded data for {ticker}\")\n",
    "        time.sleep(1) \n",
    "    except Exception as e:\n",
    "        print(f\"❌ Failed to download {ticker}: {e}\")\n",
    "\n",
    "data = pd.DataFrame(data_dict)\n",
    "\n",
    "data.head()"
   ]
  },
  {
   "cell_type": "code",
   "execution_count": 5,
   "id": "6741fe5b-717c-40c3-97cf-2d82e1554f09",
   "metadata": {},
   "outputs": [],
   "source": [
    "spread = data[\"PHM\"] - data[\"TOL\"]\n",
    "\n",
    "rolling_mean = spread.rolling(window=30).mean()\n",
    "rolling_std = spread.rolling(window=30).std()\n",
    "\n",
    "z_score = (spread - rolling_mean) / rolling_std"
   ]
  },
  {
   "cell_type": "code",
   "execution_count": 6,
   "id": "51888975-d611-4940-9e37-7780f4a496e6",
   "metadata": {},
   "outputs": [
    {
     "ename": "NameError",
     "evalue": "name 'plt' is not defined",
     "output_type": "error",
     "traceback": [
      "\u001b[0;31m---------------------------------------------------------------------------\u001b[0m",
      "\u001b[0;31mNameError\u001b[0m                                 Traceback (most recent call last)",
      "Cell \u001b[0;32mIn[6], line 1\u001b[0m\n\u001b[0;32m----> 1\u001b[0m fig, ax \u001b[38;5;241m=\u001b[39m \u001b[43mplt\u001b[49m\u001b[38;5;241m.\u001b[39msubplots(\u001b[38;5;241m2\u001b[39m, \u001b[38;5;241m1\u001b[39m, figsize\u001b[38;5;241m=\u001b[39m(\u001b[38;5;241m12\u001b[39m, \u001b[38;5;241m8\u001b[39m))\n\u001b[1;32m      3\u001b[0m ax[\u001b[38;5;241m0\u001b[39m]\u001b[38;5;241m.\u001b[39mplot(spread, label\u001b[38;5;241m=\u001b[39m\u001b[38;5;124mf\u001b[39m\u001b[38;5;124m\"\u001b[39m\u001b[38;5;124mSpread (\u001b[39m\u001b[38;5;132;01m{\u001b[39;00mstock1\u001b[38;5;132;01m}\u001b[39;00m\u001b[38;5;124m - \u001b[39m\u001b[38;5;132;01m{\u001b[39;00mstock2\u001b[38;5;132;01m}\u001b[39;00m\u001b[38;5;124m)\u001b[39m\u001b[38;5;124m\"\u001b[39m, color\u001b[38;5;241m=\u001b[39m\u001b[38;5;124m\"\u001b[39m\u001b[38;5;124mblue\u001b[39m\u001b[38;5;124m\"\u001b[39m)\n\u001b[1;32m      4\u001b[0m ax[\u001b[38;5;241m0\u001b[39m]\u001b[38;5;241m.\u001b[39maxhline(rolling_mean\u001b[38;5;241m.\u001b[39mmean(), color\u001b[38;5;241m=\u001b[39m\u001b[38;5;124m\"\u001b[39m\u001b[38;5;124mred\u001b[39m\u001b[38;5;124m\"\u001b[39m, linestyle\u001b[38;5;241m=\u001b[39m\u001b[38;5;124m\"\u001b[39m\u001b[38;5;124m--\u001b[39m\u001b[38;5;124m\"\u001b[39m, label\u001b[38;5;241m=\u001b[39m\u001b[38;5;124m\"\u001b[39m\u001b[38;5;124mMean Spread\u001b[39m\u001b[38;5;124m\"\u001b[39m)\n",
      "\u001b[0;31mNameError\u001b[0m: name 'plt' is not defined"
     ]
    }
   ],
   "source": [
    "fig, ax = plt.subplots(2, 1, figsize=(12, 8))\n",
    "\n",
    "ax[0].plot(spread, label=f\"Spread ({stock1} - {stock2})\", color=\"blue\")\n",
    "ax[0].axhline(rolling_mean.mean(), color=\"red\", linestyle=\"--\", label=\"Mean Spread\")\n",
    "ax[0].set_title(f\"Spread Between {stock1} and {stock2}\")\n",
    "ax[0].legend()\n",
    "\n",
    "ax[1].plot(z_score, label=\"Z-Score\", color=\"purple\")\n",
    "ax[1].axhline(0, color=\"black\", linestyle=\"--\")\n",
    "ax[1].axhline(2, color=\"red\", linestyle=\"--\", label=\"Short Signal (Z > 2)\")\n",
    "ax[1].axhline(-2, color=\"green\", linestyle=\"--\", label=\"Long Signal (Z < -2)\")\n",
    "ax[1].set_title(\"Z-Score of the Spread\")\n",
    "ax[1].legend()\n",
    "\n",
    "plt.tight_layout()\n",
    "plt.show()"
   ]
  },
  {
   "cell_type": "code",
   "execution_count": null,
   "id": "c1e9e2c5-ee5c-4cec-b4cb-76e47a8228d0",
   "metadata": {},
   "outputs": [],
   "source": []
  }
 ],
 "metadata": {
  "kernelspec": {
   "display_name": "Python 3 (ipykernel)",
   "language": "python",
   "name": "python3"
  },
  "language_info": {
   "codemirror_mode": {
    "name": "ipython",
    "version": 3
   },
   "file_extension": ".py",
   "mimetype": "text/x-python",
   "name": "python",
   "nbconvert_exporter": "python",
   "pygments_lexer": "ipython3",
   "version": "3.12.1"
  }
 },
 "nbformat": 4,
 "nbformat_minor": 5
}
